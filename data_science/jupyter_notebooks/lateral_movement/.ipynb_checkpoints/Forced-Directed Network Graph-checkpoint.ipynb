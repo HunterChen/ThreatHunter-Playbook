{
 "cells": [
  {
   "cell_type": "code",
   "execution_count": null,
   "metadata": {
    "collapsed": true
   },
   "outputs": [],
   "source": [
    "from elasticsearch import Elasticsearch\n",
    "from pandas.io.json import json_normalize\n",
    "import pandas as pd\n",
    "import networkx as nx\n",
    "import matplotlib.pyplot as plt\n",
    "import re\n",
    "import warnings\n",
    "warnings.filterwarnings('ignore')\n",
    "\n",
    "es = Elasticsearch(['127.0.0.1'], port=9200, timeout=480)\n"
   ]
  },
  {
   "cell_type": "code",
   "execution_count": null,
   "metadata": {
    "collapsed": true,
    "scrolled": false
   },
   "outputs": [],
   "source": [
    "successful_logon_query=es.search(index='winlogbeat-*', \n",
    "    body = {\n",
    "        'size': 3000,\n",
    "        'query': {\n",
    "            'bool': {\n",
    "               'must': [\n",
    "                    {\"match\" : {'source_name': \"Microsoft-Windows-Security-Auditing\" }},\n",
    "                    {\"match\": {'event_id': 4624}},\n",
    "                    {\"match\": {'event_data.LogonType': 3}}\n",
    "               ],\n",
    "               'must_not': [\n",
    "                    {\"match\" : {'event_data.IpAddress': \"::1\" }},\n",
    "                    {\"match\": {'event_data.TargetUserName': \"ANONYMOUS LOGON\"}}\n",
    "               ],\n",
    "               \"filter\": [\n",
    "                    {\"range\" : {\"@timestamp\" : {\"gt\": \"now-30d\", \"lt\" : \"now\"}}}\n",
    "               ]    \n",
    "            }\n",
    "\n",
    "        }\n",
    "    })\n",
    "\n",
    "sysmon_network_query=es.search(index='winlogbeat-*', body = {\n",
    "    'size': 3000,\n",
    "    'query': {\n",
    "        'bool': {\n",
    "           'must': [\n",
    "               {\"match\": {'source_name': 'Microsoft-Windows-Sysmon'}},\n",
    "               {\"match\": {'event_id': 3}}\n",
    "           ],\n",
    "           'must_not': [\n",
    "                {\"match\" : {'event_data.User': \"NT AUTHORITY\\SYSTEM\"}}\n",
    "           ],\n",
    "           \"filter\": [\n",
    "                {\"range\" : {\"@timestamp\" : {\"gt\": \"now-30d\", \"lt\" : \"now\"}}}\n",
    "           ]    \n",
    "        }\n",
    "        \n",
    "    }\n",
    "})"
   ]
  },
  {
   "cell_type": "code",
   "execution_count": null,
   "metadata": {},
   "outputs": [],
   "source": [
    "sl_normalized=json_normalize(map(lambda x: x[\"_source\"],successful_logon_query['hits']['hits']))"
   ]
  },
  {
   "cell_type": "code",
   "execution_count": null,
   "metadata": {
    "collapsed": true
   },
   "outputs": [],
   "source": [
    "sn_normalized=json_normalize(map(lambda x: x[\"_source\"],sysmon_network_query['hits']['hits']))"
   ]
  },
  {
   "cell_type": "code",
   "execution_count": null,
   "metadata": {},
   "outputs": [],
   "source": [
    "sl_df=sl_normalized[sl_normalized[\"event_data.IpAddress\"].str.contains('^(?:(?:25[0-5]|2[0-4][0-9]|[01]?[0-9][0-9]?)\\.){3}(?:25[0-5]|2[0-4][0-9]|[01]?[0-9][0-9]?)$')]\n",
    "sl_df=sl_df[~sl_df['event_data.TargetUserName'].str.contains('.*\\$')]\n",
    "sl_df['user'] = sl_df['event_data.TargetDomainName'] + '\\\\' + sl_df['event_data.TargetUserName']\n",
    "sl_df.rename(columns={\"event_data.IpAddress\":\"sourceip\", \"computer_name\":\"target\"}, inplace=True)\n",
    "sl_df_clean=sl_df[['sourceip', 'target', 'user', '@timestamp']].reset_index(drop=True)\n",
    "sl_df_clean.head(10)"
   ]
  },
  {
   "cell_type": "code",
   "execution_count": null,
   "metadata": {},
   "outputs": [],
   "source": [
    "sn_df=sn_normalized[sn_normalized[\"event_data.SourceIp\"].str.contains('^(?:(?:25[0-5]|2[0-4][0-9]|[01]?[0-9][0-9]?)\\.){3}(?:25[0-5]|2[0-4][0-9]|[01]?[0-9][0-9]?)$')]\n",
    "sn_df.rename(columns={\"event_data.SourceHostname\":\"source\",\"event_data.SourceIp\":\"sourceip\", \"event_data.DestinationIp\":\"targetip\", \"event_data.User\":\"user\"}, inplace=True)\n",
    "sn_df_clean=sn_df[['source', 'targetip', 'user', '@timestamp']]\n",
    "sn_df_clean.reset_index(drop=True)\n",
    "sn_df_clean.head(10)"
   ]
  },
  {
   "cell_type": "code",
   "execution_count": null,
   "metadata": {},
   "outputs": [],
   "source": [
    "sysmon_ip_computer_reference=sn_df[['sourceip', 'computer_name']]\n",
    "sysmon_ip_computer_reference = (sysmon_ip_computer_reference.drop_duplicates()).reset_index(drop=True)\n",
    "sysmon_ip_computer_reference"
   ]
  },
  {
   "cell_type": "code",
   "execution_count": null,
   "metadata": {},
   "outputs": [],
   "source": [
    "sl_df_merged=pd.merge(sl_df_clean,sysmon_ip_computer_reference,how=\"left\",left_on=\"sourceip\",right_on=\"sourceip\")\n",
    "sl_df_merged.head(10)"
   ]
  },
  {
   "cell_type": "code",
   "execution_count": null,
   "metadata": {},
   "outputs": [],
   "source": [
    "sn_df_merged=pd.merge(sn_df_clean,sysmon_ip_computer_reference,how=\"left\",left_on=\"targetip\",right_on=\"sourceip\")\n",
    "sn_df_merged.head(10)"
   ]
  },
  {
   "cell_type": "code",
   "execution_count": null,
   "metadata": {},
   "outputs": [],
   "source": [
    "sl_df_resolved=sl_df_merged[['computer_name','target', 'user', '@timestamp']][sl_df_merged['computer_name'].notnull()]\n",
    "sl_df_resolved.rename(columns={'computer_name':\"source\"}, inplace=True)\n",
    "sl_df_resolved.reset_index(drop=True)\n",
    "sl_df_resolved.head(10)"
   ]
  },
  {
   "cell_type": "code",
   "execution_count": null,
   "metadata": {},
   "outputs": [],
   "source": [
    "sn_df_merged.computer_name.fillna(sn_df_merged.targetip, inplace=True)\n",
    "sn_df_resolved=sn_df_merged[['source','computer_name', 'user', '@timestamp']]\n",
    "sn_df_resolved.rename(columns={'computer_name':'target'}, inplace=True)\n",
    "sn_df_resolved.head(10)"
   ]
  },
  {
   "cell_type": "code",
   "execution_count": null,
   "metadata": {},
   "outputs": [],
   "source": [
    "sl_sn_appended = sl_df_resolved.append(sn_df_resolved)\n",
    "sl_sn_appended = sl_sn_appended[['source', 'target', 'user']]\n",
    "sl_sn_appended = (sl_sn_appended.drop_duplicates()).reset_index(drop=True)\n",
    "sl_sn_appended"
   ]
  },
  {
   "cell_type": "code",
   "execution_count": null,
   "metadata": {},
   "outputs": [],
   "source": [
    "sl_sn_merged = pd.merge(sl_df_resolved,sn_df_resolved,how=\"left\",left_on=\"target\",right_on=\"source\")\n",
    "sl_sn_merged.head(10)"
   ]
  },
  {
   "cell_type": "code",
   "execution_count": null,
   "metadata": {},
   "outputs": [],
   "source": [
    "sl_sn_merged['@timestamp_x'] = pd.to_datetime(sl_sn_merged['@timestamp_x'])\n",
    "sl_sn_merged['@timestamp_y'] = pd.to_datetime(sl_sn_merged['@timestamp_y'])\n",
    "\n",
    "sl_sn_merged = sl_sn_merged[sl_sn_merged.apply(lambda x: (x['@timestamp_y'] - x['@timestamp_x']) < pd.Timedelta(\"20sec\") and x['user_y'] == x['user_x'], axis=1)]"
   ]
  },
  {
   "cell_type": "code",
   "execution_count": null,
   "metadata": {},
   "outputs": [],
   "source": [
    "sl_df_split = sl_sn_merged[['source_x', 'target_x', 'user_x']]\n",
    "sl_df_split.rename(columns={'source_x':'source', 'target_x':'target', 'user_x':'user'}, inplace=True)\n",
    "sl_df_split = (sl_df_split.drop_duplicates()).reset_index(drop=True)\n",
    "sl_df_split"
   ]
  },
  {
   "cell_type": "code",
   "execution_count": null,
   "metadata": {},
   "outputs": [],
   "source": [
    "sn_df_split = sl_sn_merged[['source_y', 'target_y', 'user_y']]\n",
    "sn_df_split.rename(columns={'source_y':'source', 'target_y':'target', 'user_y':'user'}, inplace=True)\n",
    "sn_df_split = (sn_df_split.drop_duplicates()).reset_index(drop=True)\n",
    "sn_df_split"
   ]
  },
  {
   "cell_type": "code",
   "execution_count": null,
   "metadata": {},
   "outputs": [],
   "source": [
    "sl_sn_split_appended = sl_df_split.append(sn_df_split)\n",
    "sl_sn_split_appended['label'] = '1'\n",
    "sl_sn_split_appended"
   ]
  },
  {
   "cell_type": "code",
   "execution_count": null,
   "metadata": {},
   "outputs": [],
   "source": [
    "src_dst_merged = pd.merge(sl_sn_appended,sl_sn_split_appended,how=\"left\",left_on=[\"source\",\"target\", \"user\"],right_on=[\"source\",\"target\", \"user\"])\n",
    "src_dst_merged"
   ]
  },
  {
   "cell_type": "code",
   "execution_count": null,
   "metadata": {},
   "outputs": [],
   "source": [
    "src_dst = src_dst_merged.fillna('0')\n",
    "src_dst"
   ]
  },
  {
   "cell_type": "code",
   "execution_count": null,
   "metadata": {},
   "outputs": [],
   "source": [
    "computers = pd.Index(src_dst['source'].append(src_dst['target']).reset_index(drop=True).unique())\n",
    "computers"
   ]
  },
  {
   "cell_type": "code",
   "execution_count": null,
   "metadata": {},
   "outputs": [],
   "source": [
    "temp_links_list = list(src_dst.apply(lambda row: {\"source\": row['source'], \"target\": row['target'], \"user\": row['user'], \"label\": row['label']}, axis=1))\n",
    "temp_links_list"
   ]
  },
  {
   "cell_type": "code",
   "execution_count": null,
   "metadata": {},
   "outputs": [],
   "source": [
    "links = []\n",
    "for link in temp_links_list:\n",
    "    record = {\"user\":link['user'],\"label\":link['label'], \"source\":computers.get_loc(link['source']), \"target\":computers.get_loc(link['target'])}\n",
    "    links.append(record)"
   ]
  },
  {
   "cell_type": "code",
   "execution_count": null,
   "metadata": {},
   "outputs": [],
   "source": [
    "links"
   ]
  },
  {
   "cell_type": "code",
   "execution_count": null,
   "metadata": {
    "collapsed": true
   },
   "outputs": [],
   "source": [
    "nodes = []\n",
    "for c in computers:\n",
    "    nodes.append({\"id\":c})"
   ]
  },
  {
   "cell_type": "code",
   "execution_count": null,
   "metadata": {},
   "outputs": [],
   "source": [
    "nodes"
   ]
  },
  {
   "cell_type": "code",
   "execution_count": null,
   "metadata": {},
   "outputs": [],
   "source": [
    "json_network = {\"nodes\":nodes, \"links\":links}\n",
    "json_network.keys()\n"
   ]
  },
  {
   "cell_type": "code",
   "execution_count": null,
   "metadata": {},
   "outputs": [],
   "source": [
    "import json\n",
    "json_dump = json.dumps(json_network, indent=1, sort_keys=True)\n",
    "print(json_dump)"
   ]
  },
  {
   "cell_type": "code",
   "execution_count": null,
   "metadata": {
    "collapsed": true
   },
   "outputs": [],
   "source": [
    "filename = 'graph.json'\n",
    "json_out = open(filename,'w')\n",
    "json_out.write(json_dump)\n",
    "json_out.close()"
   ]
  },
  {
   "cell_type": "code",
   "execution_count": null,
   "metadata": {
    "collapsed": true
   },
   "outputs": [],
   "source": [
    "indices_network = nx.from_pandas_dataframe(src_dst, 'source', 'target', 'user')"
   ]
  },
  {
   "cell_type": "code",
   "execution_count": null,
   "metadata": {
    "collapsed": true
   },
   "outputs": [],
   "source": [
    "i = nx.degree(indices_network)\n",
    "i"
   ]
  },
  {
   "cell_type": "code",
   "execution_count": null,
   "metadata": {
    "collapsed": true
   },
   "outputs": [],
   "source": [
    "nx.draw(indices_network, with_labels=True, graph_layout='shell', nodelist=i.keys(), node_size=[v*60 for v in i.values()])"
   ]
  },
  {
   "cell_type": "code",
   "execution_count": null,
   "metadata": {},
   "outputs": [],
   "source": [
    "plt.show()"
   ]
  }
 ],
 "metadata": {
  "kernelspec": {
   "display_name": "Python 2",
   "language": "python",
   "name": "python2"
  },
  "language_info": {
   "codemirror_mode": {
    "name": "ipython",
    "version": 2
   },
   "file_extension": ".py",
   "mimetype": "text/x-python",
   "name": "python",
   "nbconvert_exporter": "python",
   "pygments_lexer": "ipython2",
   "version": "2.7.13"
  }
 },
 "nbformat": 4,
 "nbformat_minor": 2
}
