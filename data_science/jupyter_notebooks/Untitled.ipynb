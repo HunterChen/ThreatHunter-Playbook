{
 "cells": [
  {
   "cell_type": "code",
   "execution_count": 2,
   "metadata": {},
   "outputs": [],
   "source": [
    "#!/usr/bin/env python\n",
    "import pika\n",
    "import sys\n",
    "\n",
    "creds = pika.PlainCredentials(\"user\", \"P@ssw0rd!\")\n",
    "connection = pika.BlockingConnection(pika.ConnectionParameters(host='192.168.1.254', credentials=creds))\n",
    "channel = connection.channel()\n",
    "\n",
    "channel.exchange_declare(exchange='ace_exchange',\n",
    "                         exchange_type='topic')\n",
    "with open('test_data.json') as f:\n",
    "    lines = f.readlines()\n",
    "    for line in lines:\n",
    "    \tchannel.basic_publish(exchange='ace_exchange',\n",
    "                      routing_key='siem',\n",
    "                      body=line)\n",
    "\n",
    "connection.close()"
   ]
  },
  {
   "cell_type": "code",
   "execution_count": null,
   "metadata": {
    "collapsed": true
   },
   "outputs": [],
   "source": []
  }
 ],
 "metadata": {
  "kernelspec": {
   "display_name": "Python 2",
   "language": "python",
   "name": "python2"
  },
  "language_info": {
   "codemirror_mode": {
    "name": "ipython",
    "version": 2
   },
   "file_extension": ".py",
   "mimetype": "text/x-python",
   "name": "python",
   "nbconvert_exporter": "python",
   "pygments_lexer": "ipython2",
   "version": "2.7.13"
  }
 },
 "nbformat": 4,
 "nbformat_minor": 2
}
